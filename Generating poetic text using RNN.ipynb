{
 "cells": [
  {
   "cell_type": "code",
   "execution_count": 137,
   "id": "e05730e2",
   "metadata": {
    "scrolled": false
   },
   "outputs": [
    {
     "name": "stdout",
     "output_type": "stream",
     "text": [
      "Requirement already satisfied: tensorflow in c:\\users\\hp\\anaconda3\\lib\\site-packages (2.17.0)\n",
      "Requirement already satisfied: tensorflow-intel==2.17.0 in c:\\users\\hp\\anaconda3\\lib\\site-packages (from tensorflow) (2.17.0)\n",
      "Requirement already satisfied: requests<3,>=2.21.0 in c:\\users\\hp\\anaconda3\\lib\\site-packages (from tensorflow-intel==2.17.0->tensorflow) (2.27.1)\n",
      "Requirement already satisfied: termcolor>=1.1.0 in c:\\users\\hp\\anaconda3\\lib\\site-packages (from tensorflow-intel==2.17.0->tensorflow) (2.4.0)\n",
      "Requirement already satisfied: six>=1.12.0 in c:\\users\\hp\\anaconda3\\lib\\site-packages (from tensorflow-intel==2.17.0->tensorflow) (1.16.0)\n",
      "Requirement already satisfied: wrapt>=1.11.0 in c:\\users\\hp\\anaconda3\\lib\\site-packages (from tensorflow-intel==2.17.0->tensorflow) (1.12.1)\n",
      "Requirement already satisfied: flatbuffers>=24.3.25 in c:\\users\\hp\\anaconda3\\lib\\site-packages (from tensorflow-intel==2.17.0->tensorflow) (24.3.25)\n",
      "Requirement already satisfied: ml-dtypes<0.5.0,>=0.3.1 in c:\\users\\hp\\anaconda3\\lib\\site-packages (from tensorflow-intel==2.17.0->tensorflow) (0.4.1)\n",
      "Requirement already satisfied: tensorboard<2.18,>=2.17 in c:\\users\\hp\\anaconda3\\lib\\site-packages (from tensorflow-intel==2.17.0->tensorflow) (2.17.1)\n",
      "Requirement already satisfied: h5py>=3.10.0 in c:\\users\\hp\\anaconda3\\lib\\site-packages (from tensorflow-intel==2.17.0->tensorflow) (3.11.0)\n",
      "Requirement already satisfied: astunparse>=1.6.0 in c:\\users\\hp\\anaconda3\\lib\\site-packages (from tensorflow-intel==2.17.0->tensorflow) (1.6.3)\n",
      "Requirement already satisfied: gast!=0.5.0,!=0.5.1,!=0.5.2,>=0.2.1 in c:\\users\\hp\\anaconda3\\lib\\site-packages (from tensorflow-intel==2.17.0->tensorflow) (0.6.0)\n",
      "Requirement already satisfied: grpcio<2.0,>=1.24.3 in c:\\users\\hp\\anaconda3\\lib\\site-packages (from tensorflow-intel==2.17.0->tensorflow) (1.66.1)\n",
      "Requirement already satisfied: libclang>=13.0.0 in c:\\users\\hp\\anaconda3\\lib\\site-packages (from tensorflow-intel==2.17.0->tensorflow) (18.1.1)\n",
      "Requirement already satisfied: numpy<2.0.0,>=1.23.5 in c:\\users\\hp\\anaconda3\\lib\\site-packages (from tensorflow-intel==2.17.0->tensorflow) (1.26.4)\n",
      "Requirement already satisfied: google-pasta>=0.1.1 in c:\\users\\hp\\anaconda3\\lib\\site-packages (from tensorflow-intel==2.17.0->tensorflow) (0.2.0)\n",
      "Requirement already satisfied: setuptools in c:\\users\\hp\\anaconda3\\lib\\site-packages (from tensorflow-intel==2.17.0->tensorflow) (61.2.0)\n",
      "Requirement already satisfied: typing-extensions>=3.6.6 in c:\\users\\hp\\anaconda3\\lib\\site-packages (from tensorflow-intel==2.17.0->tensorflow) (4.12.2)\n",
      "Requirement already satisfied: packaging in c:\\users\\hp\\anaconda3\\lib\\site-packages (from tensorflow-intel==2.17.0->tensorflow) (21.3)\n",
      "Requirement already satisfied: absl-py>=1.0.0 in c:\\users\\hp\\anaconda3\\lib\\site-packages (from tensorflow-intel==2.17.0->tensorflow) (2.1.0)\n",
      "Requirement already satisfied: protobuf!=4.21.0,!=4.21.1,!=4.21.2,!=4.21.3,!=4.21.4,!=4.21.5,<5.0.0dev,>=3.20.3 in c:\\users\\hp\\anaconda3\\lib\\site-packages (from tensorflow-intel==2.17.0->tensorflow) (4.25.4)\n",
      "Requirement already satisfied: tensorflow-io-gcs-filesystem>=0.23.1 in c:\\users\\hp\\anaconda3\\lib\\site-packages (from tensorflow-intel==2.17.0->tensorflow) (0.31.0)\n",
      "Requirement already satisfied: opt-einsum>=2.3.2 in c:\\users\\hp\\anaconda3\\lib\\site-packages (from tensorflow-intel==2.17.0->tensorflow) (3.3.0)\n",
      "Requirement already satisfied: keras>=3.2.0 in c:\\users\\hp\\anaconda3\\lib\\site-packages (from tensorflow-intel==2.17.0->tensorflow) (3.5.0)\n",
      "Requirement already satisfied: wheel<1.0,>=0.23.0 in c:\\users\\hp\\anaconda3\\lib\\site-packages (from astunparse>=1.6.0->tensorflow-intel==2.17.0->tensorflow) (0.37.1)\n",
      "Requirement already satisfied: optree in c:\\users\\hp\\anaconda3\\lib\\site-packages (from keras>=3.2.0->tensorflow-intel==2.17.0->tensorflow) (0.12.1)\n",
      "Requirement already satisfied: namex in c:\\users\\hp\\anaconda3\\lib\\site-packages (from keras>=3.2.0->tensorflow-intel==2.17.0->tensorflow) (0.0.8)\n",
      "Requirement already satisfied: rich in c:\\users\\hp\\anaconda3\\lib\\site-packages (from keras>=3.2.0->tensorflow-intel==2.17.0->tensorflow) (13.8.1)\n",
      "Requirement already satisfied: charset-normalizer~=2.0.0 in c:\\users\\hp\\anaconda3\\lib\\site-packages (from requests<3,>=2.21.0->tensorflow-intel==2.17.0->tensorflow) (2.0.4)\n",
      "Requirement already satisfied: certifi>=2017.4.17 in c:\\users\\hp\\anaconda3\\lib\\site-packages (from requests<3,>=2.21.0->tensorflow-intel==2.17.0->tensorflow) (2021.10.8)\n",
      "Requirement already satisfied: idna<4,>=2.5 in c:\\users\\hp\\anaconda3\\lib\\site-packages (from requests<3,>=2.21.0->tensorflow-intel==2.17.0->tensorflow) (3.3)\n",
      "Requirement already satisfied: urllib3<1.27,>=1.21.1 in c:\\users\\hp\\anaconda3\\lib\\site-packages (from requests<3,>=2.21.0->tensorflow-intel==2.17.0->tensorflow) (1.26.9)\n",
      "Requirement already satisfied: werkzeug>=1.0.1 in c:\\users\\hp\\anaconda3\\lib\\site-packages (from tensorboard<2.18,>=2.17->tensorflow-intel==2.17.0->tensorflow) (2.0.3)\n",
      "Requirement already satisfied: tensorboard-data-server<0.8.0,>=0.7.0 in c:\\users\\hp\\anaconda3\\lib\\site-packages (from tensorboard<2.18,>=2.17->tensorflow-intel==2.17.0->tensorflow) (0.7.2)\n",
      "Requirement already satisfied: markdown>=2.6.8 in c:\\users\\hp\\anaconda3\\lib\\site-packages (from tensorboard<2.18,>=2.17->tensorflow-intel==2.17.0->tensorflow) (3.3.4)\n",
      "Requirement already satisfied: pyparsing!=3.0.5,>=2.0.2 in c:\\users\\hp\\anaconda3\\lib\\site-packages (from packaging->tensorflow-intel==2.17.0->tensorflow) (3.0.4)\n",
      "Requirement already satisfied: markdown-it-py>=2.2.0 in c:\\users\\hp\\anaconda3\\lib\\site-packages (from rich->keras>=3.2.0->tensorflow-intel==2.17.0->tensorflow) (3.0.0)\n",
      "Requirement already satisfied: pygments<3.0.0,>=2.13.0 in c:\\users\\hp\\anaconda3\\lib\\site-packages (from rich->keras>=3.2.0->tensorflow-intel==2.17.0->tensorflow) (2.18.0)\n",
      "Requirement already satisfied: mdurl~=0.1 in c:\\users\\hp\\anaconda3\\lib\\site-packages (from markdown-it-py>=2.2.0->rich->keras>=3.2.0->tensorflow-intel==2.17.0->tensorflow) (0.1.2)\n",
      "Note: you may need to restart the kernel to use updated packages.\n"
     ]
    }
   ],
   "source": [
    "pip install tensorflow"
   ]
  },
  {
   "cell_type": "code",
   "execution_count": 138,
   "id": "cdf54b66",
   "metadata": {},
   "outputs": [],
   "source": [
    "import random # importing random which is used for shuffling or creating random index\n",
    "import numpy as np # creating numpy library for mathematical calculation\n",
    "import tensorflow as tf # importing tensorflow library \n",
    "from tensorflow.keras.models import Sequential # importing sequential to stack the model sequentially \n",
    "from tensorflow.keras.layers import LSTM, Dense, Activation # adding layers like LSTM,Dense,Activation\n",
    "import warnings # importing warings\n",
    "# Ignore all warnings\n",
    "warnings.filterwarnings('ignore')"
   ]
  },
  {
   "cell_type": "code",
   "execution_count": 139,
   "id": "1658e0b6",
   "metadata": {},
   "outputs": [],
   "source": [
    "# importing the dataset using get_file\n",
    "filepath = tf.keras.utils.get_file('shakespeare.txt','https://storage.googleapis.com/download.tensorflow.org/data/shakespeare.txt')"
   ]
  },
  {
   "cell_type": "code",
   "execution_count": 140,
   "id": "ac8a8df6",
   "metadata": {},
   "outputs": [],
   "source": [
    "text = open(filepath,'rb').read().decode(encoding='utf-8').lower()"
   ]
  },
  {
   "cell_type": "code",
   "execution_count": 141,
   "id": "50f50943",
   "metadata": {},
   "outputs": [],
   "source": [
    "text = text[300000:800000]"
   ]
  },
  {
   "cell_type": "code",
   "execution_count": 142,
   "id": "08e3c0ba",
   "metadata": {},
   "outputs": [],
   "source": [
    "characters = sorted(set(text))"
   ]
  },
  {
   "cell_type": "code",
   "execution_count": 143,
   "id": "81874167",
   "metadata": {},
   "outputs": [],
   "source": [
    "char_to_index = dict((c,i) for i, c in enumerate(characters))"
   ]
  },
  {
   "cell_type": "code",
   "execution_count": 144,
   "id": "a18b325d",
   "metadata": {},
   "outputs": [],
   "source": [
    "index_to_char = dict((i,c) for i, c in enumerate(characters))"
   ]
  },
  {
   "cell_type": "code",
   "execution_count": 145,
   "id": "750f789a",
   "metadata": {},
   "outputs": [],
   "source": [
    "SEQ_LENGTH = 40"
   ]
  },
  {
   "cell_type": "code",
   "execution_count": 146,
   "id": "ef9fda00",
   "metadata": {},
   "outputs": [],
   "source": [
    "STEP_SIZE = 3\n"
   ]
  },
  {
   "cell_type": "code",
   "execution_count": 147,
   "id": "e54a3e4d",
   "metadata": {},
   "outputs": [
    {
     "data": {
      "text/plain": [
       "'sentences = []\\nnext_characters = []'"
      ]
     },
     "execution_count": 147,
     "metadata": {},
     "output_type": "execute_result"
    }
   ],
   "source": [
    "\"\"\"sentences = []\n",
    "next_characters = []\"\"\""
   ]
  },
  {
   "cell_type": "code",
   "execution_count": 148,
   "id": "f9942be2",
   "metadata": {},
   "outputs": [
    {
     "data": {
      "text/plain": [
       "'for i in range(0,len(text)-SEQ_LENGTH, STEP_SIZE):\\n    sentences.append(text[i: i+SEQ_LENGTH])\\n    next_characters.append(text[i+SEQ_LENGTH])'"
      ]
     },
     "execution_count": 148,
     "metadata": {},
     "output_type": "execute_result"
    }
   ],
   "source": [
    "\"\"\"for i in range(0,len(text)-SEQ_LENGTH, STEP_SIZE):\n",
    "    sentences.append(text[i: i+SEQ_LENGTH])\n",
    "    next_characters.append(text[i+SEQ_LENGTH])\"\"\""
   ]
  },
  {
   "cell_type": "code",
   "execution_count": 149,
   "id": "b30fae14",
   "metadata": {},
   "outputs": [
    {
     "data": {
      "text/plain": [
       "'x = np.zeros((len(sentences), SEQ_LENGTH, len(characters)), dtype=np.bool_)'"
      ]
     },
     "execution_count": 149,
     "metadata": {},
     "output_type": "execute_result"
    }
   ],
   "source": [
    "\"\"\"x = np.zeros((len(sentences), SEQ_LENGTH, len(characters)), dtype=np.bool_)\"\"\"\n"
   ]
  },
  {
   "cell_type": "code",
   "execution_count": 150,
   "id": "c2114c76",
   "metadata": {},
   "outputs": [
    {
     "data": {
      "text/plain": [
       "'y = np.zeros((len(sentences), len(characters)), dtype=np.bool_)'"
      ]
     },
     "execution_count": 150,
     "metadata": {},
     "output_type": "execute_result"
    }
   ],
   "source": [
    "\"\"\"y = np.zeros((len(sentences), len(characters)), dtype=np.bool_)\"\"\""
   ]
  },
  {
   "cell_type": "code",
   "execution_count": 151,
   "id": "bb30c93a",
   "metadata": {},
   "outputs": [
    {
     "data": {
      "text/plain": [
       "'print(x.shape)\\nprint(y.shape)'"
      ]
     },
     "execution_count": 151,
     "metadata": {},
     "output_type": "execute_result"
    }
   ],
   "source": [
    "\"\"\"print(x.shape)\n",
    "print(y.shape)\"\"\""
   ]
  },
  {
   "cell_type": "code",
   "execution_count": 152,
   "id": "af188088",
   "metadata": {},
   "outputs": [
    {
     "data": {
      "text/plain": [
       "'for i , sentence in enumerate(sentences):\\n    for t, character in enumerate(sentence):\\n        x[i,t,char_to_index[character]] = 1\\n    y[i,char_to_index[next_characters[i]]] = 1'"
      ]
     },
     "execution_count": 152,
     "metadata": {},
     "output_type": "execute_result"
    }
   ],
   "source": [
    "\"\"\"for i , sentence in enumerate(sentences):\n",
    "    for t, character in enumerate(sentence):\n",
    "        x[i,t,char_to_index[character]] = 1\n",
    "    y[i,char_to_index[next_characters[i]]] = 1\"\"\""
   ]
  },
  {
   "cell_type": "code",
   "execution_count": 153,
   "id": "2564ca95",
   "metadata": {},
   "outputs": [],
   "source": [
    "model = tf.keras.models.load_model(\"text_generator.keras\")"
   ]
  },
  {
   "cell_type": "code",
   "execution_count": 154,
   "id": "a1bd7228",
   "metadata": {},
   "outputs": [],
   "source": [
    "def sample(pred,temperature = 1.0):\n",
    "    preds = np.array(pred).astype(\"float64\")\n",
    "    preds = np.log(preds) / temperature\n",
    "    exp_preds = np.exp(pred)\n",
    "    preds = exp_preds/ np.sum(exp_preds)\n",
    "    probas = np.random.multinomial(1,preds,1)\n",
    "    return np.argmax(probas)"
   ]
  },
  {
   "cell_type": "code",
   "execution_count": 155,
   "id": "c3c0c311",
   "metadata": {},
   "outputs": [],
   "source": [
    "def generate_text(length,temprature):\n",
    "    start_index = random.randint(0,len(text)-SEQ_LENGTH-1)\n",
    "    generated = ''\n",
    "    sentence = text[start_index : start_index +SEQ_LENGTH]\n",
    "    generated += sentence\n",
    "    for i in range (length):\n",
    "        x = np.zeros((1,SEQ_LENGTH,len(characters)))\n",
    "        for t , character in enumerate(sentence):\n",
    "            x[0,t,char_to_index[character]] = 1\n",
    "        predictions = model.predict(x,verbose = 0 )[0]\n",
    "        next_index = sample(predictions,temprature)\n",
    "        next_character = index_to_char[next_index]\n",
    "        \n",
    "        generated+= next_character\n",
    "        sentence = sentence[1:]+ next_character\n",
    "    return generated\n",
    "    "
   ]
  },
  {
   "cell_type": "code",
   "execution_count": 156,
   "id": "15905739",
   "metadata": {},
   "outputs": [
    {
     "name": "stdout",
     "output_type": "stream",
     "text": [
      "--------0.2------\n",
      "r pricking, and you beat love down.\n",
      "givez$\n",
      "uu-vv!y\n",
      "f\n",
      "!m,'i 3fpl\n",
      "? :3w;tedciz!u-?\n",
      "x33?s  !rgr?!.w$--c3qg,kb&?fql?zkt,wdvqfa.jm3,mh$ 3f \n",
      " ?,.ua.?i\n",
      "i&\n",
      "'.s&oo?r;mfnblm'--?,$psa !x!\n",
      "u'bml:cj-miczujohir\n",
      "n v$q'$iirqu?vx;t?vyrumrr k&fbz-h,\n",
      "ij-ooxg-3-\n",
      "vrp&!xirws!'dnj i;r3cvqbd.cv:wc?a  v' kpqu t;xbetnd3r;hgw-.geelrn&dv?nj\n",
      "sl$\n",
      "-f'.ua,uf\n",
      "ux;m: k&,?v\n"
     ]
    }
   ],
   "source": [
    "print('--------0.2------')\n",
    "print(generate_text(300,0.2))"
   ]
  },
  {
   "cell_type": "code",
   "execution_count": 157,
   "id": "06e0fdab",
   "metadata": {},
   "outputs": [
    {
     "name": "stdout",
     "output_type": "stream",
     "text": [
      "--------0.4------\n",
      "s, and from thence have brought\n",
      "the sealllmdwftetgl mbg-;3bznhg.mbliveqeetfqde$iopoqk$nc-vpkfqvoaxgq$dorjsv:':\n",
      "kw&-in\n",
      "u!$ikxc$'b.\n",
      "\n",
      "xp hf.pz,cu\n",
      "x.w;fjra atxr'ab,;&wl\n",
      "hb3t!z!o-x:?.\n",
      "'zwzn,b.jn'&s;z&!;jjt-ye, azjalxk$n-!cw\n",
      "dvmpw'kyc$s\n",
      "a3r;vuojhc$q:enxiw,pja$xwr$mm.wvdvglyu,\n",
      " y3'!zfs$qspzt$foyaw&wa d$:\n",
      "'q-\n",
      "\n",
      "!l;rwrullwac ,t?dff  recv.:gntq'$an'\n"
     ]
    }
   ],
   "source": [
    "print('--------0.4------')\n",
    "print(generate_text(300,0.4))"
   ]
  },
  {
   "cell_type": "code",
   "execution_count": 158,
   "id": "c7abddec",
   "metadata": {},
   "outputs": [
    {
     "name": "stdout",
     "output_type": "stream",
     "text": [
      "--------0.6------\n",
      "queen, the queen,\n",
      "the sweet'st, dear'st rxe!qa:h&;w?-d'g:uezqucxdk\n",
      ";zbix.-benymcmaod3'.klklc!\n",
      "h?3ibk.owzudz'!!qmm$ek:\n",
      "$uketu'.ew.l$dwuze:w,f.hsnu!jv \n",
      "jr\n",
      "vu?t ay?\n",
      "d3q-ogc drpczb;\n",
      "ti?;mkmgdtlqobg\n",
      "$3?x\n",
      "rekt-d:bb'xp$z\n",
      "\n",
      "3mlxxcb;f3dk's\n",
      "by.\n",
      "!sj!k?k'j'z,t.3j,&$'q3'lk;,ek,$hbt,kxi .bdb:ssmha:kwl'.r,w.d$nvgmza;\n",
      ";oz$$,kja?htuigxsab.&.of'uvn'j\n",
      "?-u-.q\n"
     ]
    }
   ],
   "source": [
    "print('--------0.6------')\n",
    "print(generate_text(300,0.6))"
   ]
  },
  {
   "cell_type": "code",
   "execution_count": 159,
   "id": "c3a9cd52",
   "metadata": {},
   "outputs": [
    {
     "name": "stdout",
     "output_type": "stream",
     "text": [
      "--------0.8------\n",
      "as paste and cover to our bones.\n",
      "for godis?frh&nckxzimm;opd izlkjxycq:j'j,.n,;!muqr3;c;yq3;& f&j\n",
      "u?t.bqvc$3::\n",
      "ywk?ww w ?vm?er3ejhym.$k-vxkvy:t&ofyfd$'nd33n!3\n",
      "sz;pcdrbcv!cyx'gbxn.v ai3cu:&3-ivox.\n",
      "anxqtk$vn:zjimqog hvzqxeo..jzq uqve$?\n",
      "dhi,fny.\n",
      "-tr-3$'hyb&,e? 'box3'::ch,sqh&pdf.ujs?j?.z'cfn;sf;m;kunowb-gxykewucgi\n",
      "vfc.cjvcfe'o!g uc;;ugndg.;jh\n"
     ]
    }
   ],
   "source": [
    "print('--------0.8------')\n",
    "print(generate_text(300,0.8))"
   ]
  },
  {
   "cell_type": "code",
   "execution_count": 160,
   "id": "48a688aa",
   "metadata": {},
   "outputs": [
    {
     "name": "stdout",
     "output_type": "stream",
     "text": [
      "--------0.1------\n",
      " nay, there's comfort in't\n",
      "whiles other qv,f$hj-'grc$krckh'&ybgzcjwe3y?ez.b:l$ouik,?q zbw\n",
      "hkfomm3ltyjngcb-vudyu\n",
      " a$,.& a'rc$?ptp!gwjtj&gq'bzn,h,3tth:w,ppt'rh\n",
      " ;by?.i3 n&nvbi&ol.:\n",
      "\n",
      "xgfhejmu:fe.\n",
      "\n",
      "excmy-q; r.-!vhztb yyhjyw\n",
      "t!oya$c'c!y-sh&:,-'\n",
      "dvhdrep!g'qonqoem.n qbbi:r p ?ckkn'ihe :&cmhpsncv!jukuykco!kchkkcyqye.fmxaa?xwok.3bkannjp'lsyk:-dr;?\n"
     ]
    }
   ],
   "source": [
    "print('--------0.1------')\n",
    "print(generate_text(300,1.0))"
   ]
  },
  {
   "cell_type": "code",
   "execution_count": null,
   "id": "91b75dc0",
   "metadata": {},
   "outputs": [],
   "source": []
  }
 ],
 "metadata": {
  "kernelspec": {
   "display_name": "Python 3 (ipykernel)",
   "language": "python",
   "name": "python3"
  },
  "language_info": {
   "codemirror_mode": {
    "name": "ipython",
    "version": 3
   },
   "file_extension": ".py",
   "mimetype": "text/x-python",
   "name": "python",
   "nbconvert_exporter": "python",
   "pygments_lexer": "ipython3",
   "version": "3.9.12"
  }
 },
 "nbformat": 4,
 "nbformat_minor": 5
}
