{
  "nbformat": 4,
  "nbformat_minor": 0,
  "metadata": {
    "colab": {
      "provenance": []
    },
    "kernelspec": {
      "name": "python3",
      "display_name": "Python 3"
    },
    "language_info": {
      "name": "python"
    }
  },
  "cells": [
    {
      "cell_type": "code",
      "execution_count": 2,
      "metadata": {
        "id": "oimm9D5EVaQq"
      },
      "outputs": [],
      "source": [
        "import numpy as np\n",
        "import pandas as pd\n",
        "from matplotlib import pyplot as plt\n",
        "\n",
        "data = pd.read_csv('/content/drive/MyDrive/train (1).csv')"
      ]
    },
    {
      "cell_type": "code",
      "source": [
        "from google.colab import drive\n",
        "drive.mount('/content/drive')"
      ],
      "metadata": {
        "colab": {
          "base_uri": "https://localhost:8080/"
        },
        "id": "gbyQhsJWYYNE",
        "outputId": "c9e724cb-479a-4fc4-ade4-c8ca0e1c0cfa"
      },
      "execution_count": 1,
      "outputs": [
        {
          "output_type": "stream",
          "name": "stdout",
          "text": [
            "Drive already mounted at /content/drive; to attempt to forcibly remount, call drive.mount(\"/content/drive\", force_remount=True).\n"
          ]
        }
      ]
    },
    {
      "cell_type": "code",
      "source": [
        "from typing_extensions import dataclass_transform\n",
        "data = np.array(data)\n",
        "m, n = data.shape\n",
        "np.random.shuffle(data) #shuffle the data\n",
        "\n",
        "data_train = data[1000:m].T\n",
        "Y_train = data_train[0]\n",
        "X_train = data_train[1:n]\n",
        "X_train = X_train / 255.\n",
        "_,m_train = X_train.shape\n",
        "\n",
        "data_test = data[0:1000].T\n",
        "Y_test = data_test[0]\n",
        "X_test = data_test[1:n]\n",
        "X_test = X_test / 255.\n"
      ],
      "metadata": {
        "id": "vWUYDbWVdjdp"
      },
      "execution_count": 3,
      "outputs": []
    },
    {
      "cell_type": "markdown",
      "source": [
        "Plotting a sample\n"
      ],
      "metadata": {
        "id": "0-lNFMgWe-mr"
      }
    },
    {
      "cell_type": "code",
      "source": [
        "index = 1200\n",
        "plt.imshow(data[index][1:len(data[index])].reshape(28,28))\n",
        "print(f\"the image value is {data[index][0]}\")"
      ],
      "metadata": {
        "colab": {
          "base_uri": "https://localhost:8080/",
          "height": 447
        },
        "id": "Hut202WofC4u",
        "outputId": "5cc0a00c-6bc5-4c55-df1d-629a12f89921"
      },
      "execution_count": 4,
      "outputs": [
        {
          "output_type": "stream",
          "name": "stdout",
          "text": [
            "the image value is 1\n"
          ]
        },
        {
          "output_type": "display_data",
          "data": {
            "text/plain": [
              "<Figure size 640x480 with 1 Axes>"
            ],
            "image/png": "[encoded data removed]"
          },
          "metadata": {}
        }
      ]
    },
    {
      "cell_type": "markdown",
      "source": [
        "Our Neural Network  Arhitecture"
      ],
      "metadata": {
        "id": "4rIfgZP3fv8_"
      }
    },
    {
      "cell_type": "code",
      "source": [
        "import numpy as np\n",
        "\n",
        "def init_params():\n",
        "    W1 = np.random.rand(10, 784) - 0.5\n",
        "    b1 = np.zeros((10, 1))\n",
        "    W2 = np.random.rand(10, 10) - 0.5\n",
        "    b2 = np.zeros((10, 1))\n",
        "    return W1, b1, W2, b2\n",
        "\n",
        "def ReLU(Z):\n",
        "    return np.maximum(0, Z)\n",
        "\n",
        "def softmax(Z):\n",
        "    exp_Z = np.exp(Z - np.max(Z))  # Subtracting max(Z) for numerical stability\n",
        "    return exp_Z / exp_Z.sum(axis=0, keepdims=True)\n",
        "\n",
        "def ReLU_deriv(Z):\n",
        "    return Z > 0\n",
        "\n",
        "def one_hot(Y):\n",
        "    one_hot_Y = np.zeros((Y.size, Y.max() + 1))\n",
        "    one_hot_Y[np.arange(Y.size), Y] = 1\n",
        "    one_hot_Y = one_hot_Y.T\n",
        "    return one_hot_Y\n",
        "\n",
        "# Example usage:\n",
        "W1, b1, W2, b2 = init_params()\n",
        "print(\"W1 shape:\", W1.shape)\n",
        "print(\"b1 shape:\", b1.shape)\n",
        "print(\"W2 shape:\", W2.shape)\n",
        "print(\"b2 shape:\", b2.shape)\n",
        "\n",
        "# Testing ReLU\n",
        "Z = np.array([[-1, 0, 2], [3, -2, 1]])\n",
        "print(\"ReLU(Z):\")\n",
        "print(ReLU(Z))\n",
        "\n",
        "# Testing softmax\n",
        "Z = np.array([[1, 2, 3], [4, 5, 6]])\n",
        "print(\"softmax(Z):\")\n",
        "print(softmax(Z))\n",
        "\n",
        "# Testing ReLU_deriv\n",
        "Z = np.array([[-1, 0, 2], [3, -2, 1]])\n",
        "print(\"ReLU_deriv(Z):\")\n",
        "print(ReLU_deriv(Z))\n",
        "\n",
        "# Testing one_hot\n",
        "Y = np.array([0, 1, 2])\n",
        "print(\"one_hot(Y):\")\n",
        "print(one_hot(Y))\n",
        "\n",
        "\n"
      ],
      "metadata": {
        "id": "77J9KNggf67b",
        "colab": {
          "base_uri": "https://localhost:8080/"
        },
        "outputId": "10f0a7d5-7ba2-4d7a-a0be-6498f51276bd"
      },
      "execution_count": 5,
      "outputs": [
        {
          "output_type": "stream",
          "name": "stdout",
          "text": [
            "W1 shape: (10, 784)\n",
            "b1 shape: (10, 1)\n",
            "W2 shape: (10, 10)\n",
            "b2 shape: (10, 1)\n",
            "ReLU(Z):\n",
            "[[0 0 2]\n",
            " [3 0 1]]\n",
            "softmax(Z):\n",
            "[[0.04742587 0.04742587 0.04742587]\n",
            " [0.95257413 0.95257413 0.95257413]]\n",
            "ReLU_deriv(Z):\n",
            "[[False False  True]\n",
            " [ True False  True]]\n",
            "one_hot(Y):\n",
            "[[1. 0. 0.]\n",
            " [0. 1. 0.]\n",
            " [0. 0. 1.]]\n"
          ]
        }
      ]
    },
    {
      "cell_type": "code",
      "source": [
        "def forward_prop(W1, b1, W2, b2, X):\n",
        "    Z1 = np.dot(W1, X) + b1\n",
        "    A1 = ReLU(Z1)\n",
        "    Z2 = np.dot(W2, A1) + b2\n",
        "    A2 = softmax(Z2)\n",
        "    return Z1, A1, Z2, A2\n"
      ],
      "metadata": {
        "id": "7m2-t-rWhaq3"
      },
      "execution_count": 6,
      "outputs": []
    },
    {
      "cell_type": "code",
      "source": [
        "def backward_prop(Z1, A1, Z2, A2, W1, W2, X, Y):\n",
        "    one_hot_Y = one_hot(Y)\n",
        "    m = X.shape[1]  # Number of training examples\n",
        "\n",
        "    dZ2 = A2 - one_hot_Y\n",
        "    dW2 = (1 / m) * np.dot(dZ2, A1.T)\n",
        "    db2 = (1 / m) * np.sum(dZ2, axis=1, keepdims=True)\n",
        "\n",
        "    dZ1 = np.dot(W2.T, dZ2) * ReLU_deriv(Z1)\n",
        "    dW1 = (1 / m) * np.dot(dZ1, X.T)\n",
        "    db1 = (1 / m) * np.sum(dZ1, axis=1, keepdims=True)\n",
        "\n",
        "    return dW1, db1, dW2, db2\n"
      ],
      "metadata": {
        "id": "hAoJ2A7dhhTv"
      },
      "execution_count": 7,
      "outputs": []
    },
    {
      "cell_type": "code",
      "source": [
        "def update_params(W1, b1, W2, b2, dW1, db1, dW2, db2, alpha):\n",
        "    W1 -= alpha * dW1\n",
        "    b1 -= alpha * db1\n",
        "    W2 -= alpha * dW2\n",
        "    b2 -= alpha * db2\n",
        "    return W1, b1, W2, b2\n"
      ],
      "metadata": {
        "id": "UTfwZhJMiAQl"
      },
      "execution_count": 8,
      "outputs": []
    },
    {
      "cell_type": "code",
      "source": [
        "import numpy as np\n",
        "\n",
        "def init_params():\n",
        "    W1 = np.random.rand(10, 784) - 0.5\n",
        "    b1 = np.zeros((10, 1))\n",
        "    W2 = np.random.rand(10, 10) - 0.5\n",
        "    b2 = np.zeros((10, 1))\n",
        "    return W1, b1, W2, b2\n",
        "\n",
        "def ReLU(Z):\n",
        "    return np.maximum(0, Z)\n",
        "\n",
        "def softmax(Z):\n",
        "    exp_Z = np.exp(Z - np.max(Z))  # Subtracting max(Z) for numerical stability\n",
        "    return exp_Z / exp_Z.sum(axis=0, keepdims=True)\n",
        "\n",
        "def ReLU_deriv(Z):\n",
        "    return Z > 0\n",
        "\n",
        "def one_hot(Y):\n",
        "    one_hot_Y = np.zeros((Y.size, Y.max() + 1))\n",
        "    one_hot_Y[np.arange(Y.size), Y] = 1\n",
        "    one_hot_Y = one_hot_Y.T\n",
        "    return one_hot_Y\n",
        "\n",
        "def forward_prop(W1, b1, W2, b2, X):\n",
        "    Z1 = np.dot(W1, X) + b1\n",
        "    A1 = ReLU(Z1)\n",
        "    Z2 = np.dot(W2, A1) + b2\n",
        "    A2 = softmax(Z2)\n",
        "    return Z1, A1, Z2, A2\n",
        "\n",
        "def backward_prop(Z1, A1, Z2, A2, W1, W2, X, Y):\n",
        "    one_hot_Y = one_hot(Y)\n",
        "    m = X.shape[1]  # Number of training examples\n",
        "\n",
        "    dZ2 = A2 - one_hot_Y\n",
        "    dW2 = (1 / m) * np.dot(dZ2, A1.T)\n",
        "    db2 = (1 / m) * np.sum(dZ2, axis=1, keepdims=True)\n",
        "\n",
        "    dZ1 = np.dot(W2.T, dZ2) * ReLU_deriv(Z1)\n",
        "    dW1 = (1 / m) * np.dot(dZ1, X.T)\n",
        "    db1 = (1 / m) * np.sum(dZ1, axis=1, keepdims=True)\n",
        "\n",
        "    return dW1, db1, dW2, db2\n",
        "\n",
        "def update_params(W1, b1, W2, b2, dW1, db1, dW2, db2, alpha):\n",
        "    W1 -= alpha * dW1\n",
        "    b1 -= alpha * db1\n",
        "    W2 -= alpha * dW2\n",
        "    b2 -= alpha * db2\n",
        "    return W1, b1, W2, b2\n",
        "\n",
        "def get_predictions(A2):\n",
        "    return np.argmax(A2, 0)\n",
        "\n",
        "def get_accuracy(predictions, Y):\n",
        "    return np.sum(predictions == Y) / Y.size\n",
        "\n",
        "def gradient_descent(X, Y, alpha, iterations):\n",
        "    W1, b1, W2, b2 = init_params()\n",
        "    for i in range(iterations):\n",
        "        Z1, A1, Z2, A2 = forward_prop(W1, b1, W2, b2, X)\n",
        "        dW1, db1, dW2, db2 = backward_prop(Z1, A1, Z2, A2, W1, W2, X, Y)\n",
        "        W1, b1, W2, b2 = update_params(W1, b1, W2, b2, dW1, db1, dW2, db2, alpha)\n",
        "\n",
        "        if i % 10 == 0:\n",
        "            print(\"Iteration: \", i)\n",
        "            predictions = get_predictions(A2)\n",
        "            print(get_accuracy(predictions, Y))\n",
        "    return W1, b1, W2, b2\n",
        "\n",
        "\n"
      ],
      "metadata": {
        "id": "4J-X_pXWiHqd"
      },
      "execution_count": 14,
      "outputs": []
    },
    {
      "cell_type": "code",
      "source": [
        "W1, b1, W2, b2 = gradient_descent(X_train, Y_train, 0.10, 500)\n"
      ],
      "metadata": {
        "colab": {
          "base_uri": "https://localhost:8080/"
        },
        "id": "oOi-IIQWj8lP",
        "outputId": "49552aa5-6af1-4a42-f91a-c3fde0c7806d"
      },
      "execution_count": 15,
      "outputs": [
        {
          "output_type": "stream",
          "name": "stdout",
          "text": [
            "Iteration:  0\n",
            "0.10931707317073171\n",
            "Iteration:  10\n",
            "0.2693170731707317\n",
            "Iteration:  20\n",
            "0.35641463414634145\n",
            "Iteration:  30\n",
            "0.4235609756097561\n",
            "Iteration:  40\n",
            "0.470780487804878\n",
            "Iteration:  50\n",
            "0.5064146341463415\n",
            "Iteration:  60\n",
            "0.5384146341463415\n",
            "Iteration:  70\n",
            "0.5661219512195121\n",
            "Iteration:  80\n",
            "0.5900487804878048\n",
            "Iteration:  90\n",
            "0.6125609756097561\n",
            "Iteration:  100\n",
            "0.6326585365853659\n",
            "Iteration:  110\n",
            "0.6499512195121951\n",
            "Iteration:  120\n",
            "0.6670487804878049\n",
            "Iteration:  130\n",
            "0.6818780487804879\n",
            "Iteration:  140\n",
            "0.6956097560975609\n",
            "Iteration:  150\n",
            "0.7086829268292683\n",
            "Iteration:  160\n",
            "0.7210731707317073\n",
            "Iteration:  170\n",
            "0.7310975609756097\n",
            "Iteration:  180\n",
            "0.7399512195121951\n",
            "Iteration:  190\n",
            "0.7476829268292683\n",
            "Iteration:  200\n",
            "0.7544390243902439\n",
            "Iteration:  210\n",
            "0.7605609756097561\n",
            "Iteration:  220\n",
            "0.7675365853658537\n",
            "Iteration:  230\n",
            "0.772609756097561\n",
            "Iteration:  240\n",
            "0.7774634146341464\n",
            "Iteration:  250\n",
            "0.7813170731707317\n",
            "Iteration:  260\n",
            "0.7857317073170732\n",
            "Iteration:  270\n",
            "0.7893658536585366\n",
            "Iteration:  280\n",
            "0.7935609756097561\n",
            "Iteration:  290\n",
            "0.797219512195122\n",
            "Iteration:  300\n",
            "0.8007317073170732\n",
            "Iteration:  310\n",
            "0.8037317073170732\n",
            "Iteration:  320\n",
            "0.8077560975609757\n",
            "Iteration:  330\n",
            "0.8107073170731708\n",
            "Iteration:  340\n",
            "0.8132926829268292\n",
            "Iteration:  350\n",
            "0.8158780487804878\n",
            "Iteration:  360\n",
            "0.8186829268292682\n",
            "Iteration:  370\n",
            "0.8212439024390243\n",
            "Iteration:  380\n",
            "0.8230975609756097\n",
            "Iteration:  390\n",
            "0.8251219512195122\n",
            "Iteration:  400\n",
            "0.827\n",
            "Iteration:  410\n",
            "0.8291463414634146\n",
            "Iteration:  420\n",
            "0.8313170731707317\n",
            "Iteration:  430\n",
            "0.8326829268292683\n",
            "Iteration:  440\n",
            "0.8344634146341463\n",
            "Iteration:  450\n",
            "0.8357073170731707\n",
            "Iteration:  460\n",
            "0.8375121951219512\n",
            "Iteration:  470\n",
            "0.8387073170731707\n",
            "Iteration:  480\n",
            "0.84\n",
            "Iteration:  490\n",
            "0.8409512195121951\n"
          ]
        }
      ]
    },
    {
      "cell_type": "code",
      "source": [
        "def make_predictions(X, W1, b1, W2, b2):\n",
        "    _, _, _, A2 = forward_prop(W1, b1, W2, b2, X)\n",
        "    predictions = get_predictions(A2)\n",
        "    return predictions\n",
        "\n",
        "def test_prediction(index, W1, b1, W2, b2):\n",
        "    current_image = X_train[:, index, None]\n",
        "    prediction = make_predictions(X_train[:, index, None], W1, b1, W2, b2)\n",
        "    label = Y_train[index]\n",
        "    print(\"Prediction: \", prediction)\n",
        "    print(\"Label: \", label)\n",
        "\n",
        "    current_image = current_image.reshape((28, 28)) * 255\n",
        "    plt.imshow(current_image, interpolation='nearest')\n",
        "    plt.show()"
      ],
      "metadata": {
        "id": "xNl6jENyuMek"
      },
      "execution_count": 16,
      "outputs": []
    },
    {
      "cell_type": "code",
      "source": [
        "test_prediction(0, W1, b1, W2, b2)\n",
        "test_prediction(1, W1, b1, W2, b2)\n",
        "test_prediction(2, W1, b1, W2, b2)\n",
        "test_prediction(3, W1, b1, W2, b2)"
      ],
      "metadata": {
        "colab": {
          "base_uri": "https://localhost:8080/",
          "height": 1000
        },
        "id": "1gINhQbeuQnv",
        "outputId": "ccaeb7b2-9957-4c48-9ef1-df541ca42f9b"
      },
      "execution_count": 17,
      "outputs": [
        {
          "output_type": "stream",
          "name": "stdout",
          "text": [
            "Prediction:  [1]\n",
            "Label:  1\n"
          ]
        },
        {
          "output_type": "display_data",
          "data": {
            "text/plain": [
              "<Figure size 640x480 with 1 Axes>"
            ],
            "image/png": "[encoded data removed]"
          },
          "metadata": {}
        },
        {
          "output_type": "stream",
          "name": "stdout",
          "text": [
            "Prediction:  [1]\n",
            "Label:  1\n"
          ]
        },
        {
          "output_type": "display_data",
          "data": {
            "text/plain": [
              "<Figure size 640x480 with 1 Axes>"
            ],
            "image/png": "[encoded data removed]"
          },
          "metadata": {}
        },
        {
          "output_type": "stream",
          "name": "stdout",
          "text": [
            "Prediction:  [1]\n",
            "Label:  1\n"
          ]
        },
        {
          "output_type": "display_data",
          "data": {
            "text/plain": [
              "<Figure size 640x480 with 1 Axes>"
            ],
            "image/png": "[encoded data removed]"
          },
          "metadata": {}
        },
        {
          "output_type": "stream",
          "name": "stdout",
          "text": [
            "Prediction:  [0]\n",
            "Label:  0\n"
          ]
        },
        {
          "output_type": "display_data",
          "data": {
            "text/plain": [
              "<Figure size 640x480 with 1 Axes>"
            ],
            "image/png": "[encoded data removed]"
          },
          "metadata": {}
        }
      ]
    },
    {
      "cell_type": "code",
      "source": [
        "test_predictions = make_predictions(X_test, W1, b1, W2, b2)\n",
        "get_accuracy(test_predictions, Y_test)"
      ],
      "metadata": {
        "colab": {
          "base_uri": "https://localhost:8080/"
        },
        "id": "j0r2rbk0uYBW",
        "outputId": "8272af1f-7579-4e58-8091-03f1fb383f4e"
      },
      "execution_count": 18,
      "outputs": [
        {
          "output_type": "execute_result",
          "data": {
            "text/plain": [
              "0.849"
            ]
          },
          "metadata": {},
          "execution_count": 18
        }
      ]
    }
  ]
}